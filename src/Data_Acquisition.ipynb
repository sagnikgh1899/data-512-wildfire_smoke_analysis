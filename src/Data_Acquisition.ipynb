{
 "cells": [
  {
   "cell_type": "markdown",
   "metadata": {
    "tags": []
   },
   "source": [
    "# Data acquisition\n",
    "\n",
    "The common analysis research question is based on one specific dataset. You should get the [Combined wildland fire datasets for the United States and certain territories, 1800s-Present (combined wildland fire polygons)](https://www.sciencebase.gov/catalog/item/61aa537dd34eb622f699df81) dataset. This dataset was collected and aggregated by the US Geological Survey. The dataset is relatively well documented. Fire polygons are available in ArcGIS and GeoJSON formats. \n",
    "We have been assigned one US city that will form the basis for your individual analysis. This can be found from [this Google spreadsheet](https://docs.google.com/spreadsheets/d/1cmTW5fgU3KyH6JbrRao-qWjzu2GovKk_BkA7a-poGFw/edit?usp=drive_link).\n",
    "\n",
    "This notebook has dependencies on [Pyproj](https://pyproj4.github.io/pyproj/stable/index.html) and the [geojson](https://pypi.org/project/geojson/) module. Pyproj and geojson can be installed via pip. \n",
    "\n",
    "### License\n",
    "This code example was developed by Dr. David W. McDonald for use in DATA 512, a course in the UW MS Data Science degree program. This code is provided under the [Creative Commons](https://creativecommons.org) [CC-BY license](https://creativecommons.org/licenses/by/4.0/). Revision 1.0 - August 13, 2023"
   ]
  },
  {
   "cell_type": "markdown",
   "metadata": {},
   "source": [
    "### Preliminaries\n",
    "First we start with some imports and some constant definitions."
   ]
  },
  {
   "cell_type": "code",
   "execution_count": 1,
   "metadata": {
    "tags": []
   },
   "outputs": [],
   "source": [
    "# Import some standard python modules\n",
    "\n",
    "#\n",
    "# The module pyproj is a standard module that provides tools to convert between different geodesic coordinate systems\n",
    "# and for calculating distances between points (coordinates) in a specific geodesic system.\n",
    "#\n",
    "from pyproj import Transformer, Geod\n",
    "import json\n",
    "import geojson\n",
    "import os\n",
    "import pandas as pd\n",
    "from tqdm import tqdm\n",
    "\n",
    "# Ignore warning messages to suppress unnecessary output\n",
    "import warnings\n",
    "warnings.filterwarnings(\"ignore\")"
   ]
  },
  {
   "cell_type": "code",
   "execution_count": 4,
   "metadata": {},
   "outputs": [
    {
     "name": "stdout",
     "output_type": "stream",
     "text": [
      "FILENAME='..\\\\data\\\\USGS_Wildland_Fire_Combined_Dataset.json'\n"
     ]
    }
   ],
   "source": [
    "# Define a constant variable for the name of the JSON file to extract data from\n",
    "EXTRACT_FILENAME = \"USGS_Wildland_Fire_Combined_Dataset.json\"\n",
    "# Construct the full path to the JSON file by joining the relative path \"..\\data\" with the filename\n",
    "FILENAME = os.path.join(\"..\", \"data\", EXTRACT_FILENAME)\n",
    "# Print the value of the FILENAME variable, indicating where the sample data is expected to be found\n",
    "print(f\"{FILENAME=}\")\n",
    "# Create a dictionary named CITY_LOCATION to store information about a city named 'tulare'\n",
    "CITY_LOCATION = {\n",
    "    'tulare': {\n",
    "        'city': 'Tulare',\n",
    "        'latlon': [36.2714, -118.7770]\n",
    "    }\n",
    "}"
   ]
  },
  {
   "cell_type": "markdown",
   "metadata": {},
   "source": [
    "## Load the wildfire data using the geojson module\n",
    "\n",
    "We use the GeoJSON module ([documentation](https://pypi.org/project/geojson/), [GitHub repo](https://github.com/jazzband/geojson)) to load the file. This module works mostly the way one would expect. GeoJSON is mostly just JSON, so actually, we don't even really need to use the GeoJSON module. However, that module will do some conversion of Geo type things to something useful."
   ]
  },
  {
   "cell_type": "code",
   "execution_count": 3,
   "metadata": {},
   "outputs": [
    {
     "name": "stdout",
     "output_type": "stream",
     "text": [
      "Attempting to open '..\\data\\USGS_Wildland_Fire_Combined_Dataset.json'\n"
     ]
    }
   ],
   "source": [
    "# Load the data from the opened file using the geojson library's 'load' function\n",
    "print(f\"Attempting to open '{FILENAME}'\")\n",
    "with open(FILENAME, \"r\") as f:\n",
    "    gj_data = geojson.load(f)"
   ]
  },
  {
   "cell_type": "code",
   "execution_count": 4,
   "metadata": {},
   "outputs": [
    {
     "name": "stdout",
     "output_type": "stream",
     "text": [
      "The loaded JSON dictionary has the following keys:\n",
      "['displayFieldName', 'fieldAliases', 'geometryType', 'spatialReference', 'fields', 'features']\n",
      "\n"
     ]
    }
   ],
   "source": [
    "# Get a list of keys from the 'gj_data' object\n",
    "gj_keys = list(gj_data.keys())\n",
    "# Print the list of keys obtained from the 'gj_data' object\n",
    "print(\"The loaded JSON dictionary has the following keys:\")\n",
    "print(gj_keys)"
   ]
  },
  {
   "cell_type": "markdown",
   "metadata": {},
   "source": [
    "## Distance computations with Pyproj\n",
    "\n",
    "One issue in performing geodetic computation is that any (all) geographic coordinate systems are eventually translated to the surface of the earth - which is not flat. That means every computation of distance between two points is some kind of arc (not actually a straight line). Further the earth is not a true sphere, its a type of ellipsoid. That means the amount of curvature varies depending upon where we are on the surface and the direction - which changes the distance.\n",
    "\n",
    "Lucky for us there are geographers who like to write code and have built systems to simplify the computation of distances over the earth's surface. One of those systems is called [Pyproj](https://pyproj4.github.io/pyproj/stable/index.html). It has functions that will convert coordinate points between (almost) any two of the many different geographic coordinate systems. As well, Pyproj provides ways to compute distances between two points (mostly assuming the points are already in the same coordinate system).\n",
    "\n",
    "This example uses the Geod() object to calculate the distance between a slected starting city and all of the cities defined in our CITY_LOCATIONS dictionary (see CONSTANTS above).\n",
    "\n",
    "The example calls the distances computed 'straight line' distances - because that is what we would have to use to find the distance between two cities using Google. If we didn't use some form of language like that Google would map roads to get us between a source and destination; that would never match our calculation.\n"
   ]
  },
  {
   "cell_type": "markdown",
   "metadata": {},
   "source": [
    "## Convert points between geodetic coordinate systems\n",
    "\n",
    "One of the constraints in doing geodetic computations is that most of the time we need to have our points (the coordinates for places) in the same geographic coordinate system. There are tons and tons of coordinate systems. We can find descriptions of many of them at [EPSG.io](https://epsg.io).\n",
    "\n",
    "Looking at the wildfire header information, we can see fields named \"geometryType\" and \"spatialReference\". This looks like:\n",
    "\n",
    "        \"geometryType\": \"esriGeometryPolygon\",\n",
    "        \"spatialReference\": {\n",
    "            \"wkid\": 102008,\n",
    "            \"latestWkid\": 102008\n",
    "        },\n",
    "\n",
    "This indicates that the geometry of our wildfire data are generic polygons and that they are expressed in a coordinate system with the well-known ID (WKID) 102008. This coordinate system is also known as [ESRI:102008](https://epsg.io/102008)\n",
    "\n",
    "If we look back we might have wondered about the line of code that says:\n",
    "\n",
    "    geocalc = Geod(ellps='WGS84')         # Use WGS84 ellipsoid representation of the earth\n",
    "\n",
    "That string, 'WGS84', is a representation of the earth, that also relies on a well known coordinate system that is sometimes called 'decimal degrees' (DD). That decimal degrees system has an official name (or WKID) of [EPSG:4326](https://epsg.io/4326).\n",
    "\n",
    "For the example below, what we're going to do is take the geometry of a fire feature, extract the largest ring (i.e., the largest boundary of the fire) and convert all of the points in that ring from the ESRI:102008 coordinate system to EPSG:4326 coordinates."
   ]
  },
  {
   "cell_type": "code",
   "execution_count": 5,
   "metadata": {},
   "outputs": [],
   "source": [
    "#\n",
    "#    Transform feature geometry data\n",
    "#\n",
    "#    The function takes one parameter, a list of ESRI:102008 coordinates that will be transformed to EPSG:4326\n",
    "#    The function returns a list of coordinates in EPSG:4326\n",
    "def convert_ring_to_epsg4326(ring_data=None):\n",
    "    converted_ring = list()\n",
    "    # We use a pyproj transformer that converts from ESRI:102008 to EPSG:4326 to transform the list of coordinates\n",
    "    to_epsg4326 = Transformer.from_crs(\"ESRI:102008\",\"EPSG:4326\")\n",
    "    # We'll run through the list transforming each ESRI:102008 x,y coordinate into a decimal degree lat,lon\n",
    "    for coord in ring_data:\n",
    "        lat,lon = to_epsg4326.transform(coord[0],coord[1])\n",
    "        new_coord = lat,lon\n",
    "        converted_ring.append(new_coord)\n",
    "    return converted_ring"
   ]
  },
  {
   "cell_type": "markdown",
   "metadata": {},
   "source": [
    "## Compute distance between a place and a wildfire\n",
    "\n",
    "The basic problem is knowing how far away a fire is from some location (like a city). One issue is that fires are irregularly shaped so the actual answer to that is a bit dependent upon the exact shape and how we want to think about the notion of 'distance'. For example, should we just find the closest point on the perimiter of a fire and call that the distance? Maybe we should find the centroid of the region, identify that as a geolocation (coordinate) and then calculate the distance to that? We can come up with numerous other ways.\n",
    "\n",
    "The first bit of code finds the point on the perimiter with the shortest distance to the city (place) and returns the distance as well as the lat,lon of the perimeter point.\n",
    "\n",
    "The second bit of code calculates the average distance of all perimeter points to the city (place) and returns that average as the distance. This is not quite what the centroid would be, but it is probably fairly close.\n",
    "\n",
    "These are two reasonable ways to think about possible distance to a fire. But both require computing distance to a whole set of points on the perimeter of a fire.\n"
   ]
  },
  {
   "cell_type": "code",
   "execution_count": 6,
   "metadata": {},
   "outputs": [],
   "source": [
    "#    \n",
    "#    The function takes two parameters\n",
    "#        A place - which is coordinate point (list or tuple with two items, (lat,lon) in decimal degrees EPSG:4326\n",
    "#        Ring_data - a list of decimal degree coordinates for the fire boundary\n",
    "#\n",
    "#    The function returns a list containing the shortest distance to the perimeter and the point where that is\n",
    "#\n",
    "def shortest_distance_from_place_to_fire_perimeter(place=None,ring_data=None):\n",
    "    # convert the ring data to the right coordinate system\n",
    "    ring = convert_ring_to_epsg4326(ring_data)    \n",
    "    # create a epsg4326 compliant object - which is what the WGS84 ellipsoid is\n",
    "    geodcalc = Geod(ellps='WGS84')\n",
    "    closest_point = list()\n",
    "    # run through each point in the converted ring data\n",
    "    for point in ring:\n",
    "        # calculate the distance\n",
    "        d = geodcalc.inv(place[1],place[0],point[1],point[0])\n",
    "        # convert the distance to miles\n",
    "        distance_in_miles = d[2]*0.00062137\n",
    "        # if it's closer to the city than the point we have, save it\n",
    "        if not closest_point:\n",
    "            closest_point.append(distance_in_miles)\n",
    "            closest_point.append(point)\n",
    "        elif closest_point and closest_point[0]>distance_in_miles:\n",
    "            closest_point = list()\n",
    "            closest_point.append(distance_in_miles)\n",
    "            closest_point.append(point)\n",
    "    return closest_point"
   ]
  },
  {
   "cell_type": "code",
   "execution_count": 7,
   "metadata": {},
   "outputs": [
    {
     "name": "stderr",
     "output_type": "stream",
     "text": [
      "100%|████████████████████████████████████████████████████████████████████████| 135061/135061 [5:20:36<00:00,  7.02it/s]\n"
     ]
    },
    {
     "name": "stdout",
     "output_type": "stream",
     "text": [
      "Number of curveRings : 35\n"
     ]
    }
   ],
   "source": [
    "# Get a city from our CITY_LOCATIONS constant as our starting position\n",
    "place = CITY_LOCATION[\"tulare\"]\n",
    "attributes_list = []\n",
    "count_curveRings = 0\n",
    "\n",
    "for feature in tqdm(gj_data['features']):\n",
    "    try:\n",
    "        wf_year = feature['attributes']['Fire_Year']\n",
    "        if 1963 <= wf_year <= 2023:\n",
    "            ring_data = feature['geometry']['rings'][0]\n",
    "        \n",
    "        #   Compute using the shortest distance to any point on the perimeter\n",
    "            distance = shortest_distance_from_place_to_fire_perimeter(place['latlon'],ring_data)\n",
    "\n",
    "            if distance[0] <= 1250.00:\n",
    "                feature_attributes = feature['attributes']\n",
    "                feature_attributes['Distance'] = distance[0]\n",
    "                attributes_list.append(feature_attributes)\n",
    "    except Exception as e:\n",
    "        count_curveRings += 1\n",
    "\n",
    "print(f\"Number of curveRings : {count_curveRings}\")\n",
    "\n",
    "\n",
    "# Create a DataFrame from the list of feature dictionaries\n",
    "df = pd.DataFrame(attributes_list)\n"
   ]
  },
  {
   "cell_type": "markdown",
   "metadata": {},
   "source": [
    "#### There are 35 instances of curveRings out of the 135061 instances, so we can choose to ignore them without much impact on the overall result."
   ]
  },
  {
   "cell_type": "code",
   "execution_count": 8,
   "metadata": {},
   "outputs": [],
   "source": [
    "# Save the entire dataframe with the fires filtered based on distance and year, to save time\n",
    "df.to_csv('../intermediate data/all_fire_data_with_distance.csv', index=False)"
   ]
  }
 ],
 "metadata": {
  "kernelspec": {
   "display_name": "Python 3",
   "language": "python",
   "name": "python3"
  },
  "language_info": {
   "codemirror_mode": {
    "name": "ipython",
    "version": 3
   },
   "file_extension": ".py",
   "mimetype": "text/x-python",
   "name": "python",
   "nbconvert_exporter": "python",
   "pygments_lexer": "ipython3",
   "version": "3.8.3"
  }
 },
 "nbformat": 4,
 "nbformat_minor": 4
}
